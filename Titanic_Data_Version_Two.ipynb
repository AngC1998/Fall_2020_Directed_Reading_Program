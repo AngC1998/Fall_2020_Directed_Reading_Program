{
 "cells": [
  {
   "cell_type": "code",
   "execution_count": null,
   "metadata": {},
   "outputs": [],
   "source": [
    "import numpy as np\n",
    "import pandas as pd\n",
    "import matplotlib.pyplot as plt\n",
    "import math"
   ]
  },
  {
   "cell_type": "code",
   "execution_count": null,
   "metadata": {},
   "outputs": [],
   "source": [
    "plt.rc(\"figure\", dpi=300, figsize=(9,3))"
   ]
  },
  {
   "cell_type": "markdown",
   "metadata": {},
   "source": [
    "<h1 align=\"center\">Titanic Survival Estimation via Naïve Bayes</h1>\n",
    "\n",
    "    Angela Cao\n",
    "    Shane McQuarrie\n",
    "    DRP Fall 2020"
   ]
  },
  {
   "cell_type": "markdown",
   "metadata": {},
   "source": [
    "## Contents\n",
    "\n",
    "1. Introduction: The Titanic Problem\n",
    "2. Visualizing the Data\n",
    "3. The Naïve Bayes Algorithm\n",
    "4. Testing the Algorithm"
   ]
  },
  {
   "cell_type": "markdown",
   "metadata": {},
   "source": [
    "## Introduction: The Titanic Problem"
   ]
  },
  {
   "cell_type": "markdown",
   "metadata": {},
   "source": [
    "**TEXT HERE INTRODUCING THE PROBLEM** (where does this data come from? what is our objective? How will we do it?)\n",
    "\n",
    "On April 15, 1912, the RMS Titanic sunk leaving about 1496 people dead. Many of the victims (and survivors) shared certain characteristics such as class (divided into 3 classes based on social status), sex, age, etc. Thus, the goal of the project is to investigate common factors among survivors and victims of the Titanic sinking. \n",
    "\n",
    "\n",
    "\n",
    "[This is how you do a link](www.example.com)"
   ]
  },
  {
   "cell_type": "code",
   "execution_count": null,
   "metadata": {},
   "outputs": [],
   "source": [
    "# Read the data from file.\n",
    "titanic_original = pd.read_csv(\"titanic.csv\")\n",
    "titanic_original.sample(5)"
   ]
  },
  {
   "cell_type": "code",
   "execution_count": null,
   "metadata": {},
   "outputs": [],
   "source": [
    "# Extract the relevant columns.\n",
    "titanic = titanic_original[[\"Survived\", \"Sex\", \"Age\", \"Pclass\", \"Fare\"]]\n",
    "titanic.sample(5)"
   ]
  },
  {
   "cell_type": "markdown",
   "metadata": {},
   "source": [
    "**Write a little about why we're keeping these columns**"
   ]
  },
  {
   "cell_type": "code",
   "execution_count": null,
   "metadata": {},
   "outputs": [],
   "source": [
    "# Other preprocessing step: replace NaN age values (and other NaN values)."
   ]
  },
  {
   "cell_type": "markdown",
   "metadata": {},
   "source": [
    "## Visualizing the Data"
   ]
  },
  {
   "cell_type": "markdown",
   "metadata": {},
   "source": [
    "**Principles to follow here**:\n",
    "- Tell a story. That means only use tables/visualizations that serve the story.\n",
    "    - How many people survived?\n",
    "    - How does survival appear to depend on the other factors (subgroups?)\n",
    "- Visualize single distributions with histograms / kernel density estimate (`kind=\"kde\"`)\n",
    "- Label everything!\n",
    "\n",
    "\n",
    "Ideas for visualizations\n",
    "- Proportion of people who died\n",
    "- Distribution of ages?\n",
    "- Distribution of Fare?\n",
    "- Proportion of males / females\n",
    "- Any of these grouped by survival\n",
    "\n",
    "(go see what we did in the Pandas 3 lab)"
   ]
  },
  {
   "cell_type": "code",
   "execution_count": null,
   "metadata": {},
   "outputs": [],
   "source": [
    "titanic.groupby([\"Survived\", \"Sex\"]).mean()"
   ]
  },
  {
   "cell_type": "markdown",
   "metadata": {},
   "source": [
    "Wherever you have a table, explain the table beneath (write a caption)."
   ]
  },
  {
   "cell_type": "code",
   "execution_count": null,
   "metadata": {},
   "outputs": [],
   "source": [
    "titanic.groupby(\"Survived\").count()[\"Age\"].plot(kind=\"barh\")\n",
    "plt.show()"
   ]
  },
  {
   "cell_type": "code",
   "execution_count": null,
   "metadata": {},
   "outputs": [],
   "source": [
    "titanic[\"Age\"].plot(kind=\"hist\", bins=80)\n",
    "plt.show()"
   ]
  },
  {
   "cell_type": "markdown",
   "metadata": {},
   "source": [
    "Write about it. \"This shows the distribution of the ages of the passengers. You can see that there were a lot of middle-aged people in their 20's and 30's and a good chunk of children....\""
   ]
  },
  {
   "cell_type": "code",
   "execution_count": null,
   "metadata": {
    "scrolled": true
   },
   "outputs": [],
   "source": [
    "titanic.describe()"
   ]
  },
  {
   "cell_type": "code",
   "execution_count": null,
   "metadata": {},
   "outputs": [],
   "source": [
    "titanic[\"Age\"].isnull()"
   ]
  },
  {
   "cell_type": "code",
   "execution_count": null,
   "metadata": {},
   "outputs": [],
   "source": [
    "titanic.loc[titanic[\"Age\"].isnull()]"
   ]
  },
  {
   "cell_type": "code",
   "execution_count": null,
   "metadata": {},
   "outputs": [],
   "source": [
    "titanic[\"Age\"].median()"
   ]
  },
  {
   "cell_type": "code",
   "execution_count": null,
   "metadata": {},
   "outputs": [],
   "source": [
    "titanic.loc[titanic[\"Age\"].isnull(), \"Age\"] = titanic[\"Age\"].median()"
   ]
  },
  {
   "cell_type": "code",
   "execution_count": null,
   "metadata": {},
   "outputs": [],
   "source": [
    "titanic = titanic[:1309]"
   ]
  },
  {
   "cell_type": "code",
   "execution_count": null,
   "metadata": {},
   "outputs": [],
   "source": [
    "plt.hist(titanic[\"Age\"])"
   ]
  },
  {
   "cell_type": "code",
   "execution_count": null,
   "metadata": {
    "scrolled": true
   },
   "outputs": [],
   "source": [
    "plt.hist(titanic[\"Fare\"])"
   ]
  },
  {
   "cell_type": "code",
   "execution_count": null,
   "metadata": {},
   "outputs": [],
   "source": [
    "groups = titanic.groupby(\"Pclass\")"
   ]
  },
  {
   "cell_type": "code",
   "execution_count": null,
   "metadata": {
    "scrolled": true
   },
   "outputs": [],
   "source": [
    "# These almost look nice, but we have to be careful not compare apples and oranges.\n",
    "groups.boxplot(grid=False)"
   ]
  },
  {
   "cell_type": "code",
   "execution_count": null,
   "metadata": {},
   "outputs": [],
   "source": [
    "groups.plot(kind=\"hist\", y=\"Fare\")"
   ]
  },
  {
   "cell_type": "code",
   "execution_count": null,
   "metadata": {
    "scrolled": true
   },
   "outputs": [],
   "source": [
    "titanic.plot(kind='box', y=['Age'], vert=False)\n",
    "titanic.plot(kind='box', y=['Fare'], vert=False)"
   ]
  },
  {
   "cell_type": "code",
   "execution_count": null,
   "metadata": {},
   "outputs": [],
   "source": [
    "titanic.plot(kind='scatter', x='Age', y='Fare', alpha=.2)"
   ]
  },
  {
   "cell_type": "code",
   "execution_count": null,
   "metadata": {},
   "outputs": [],
   "source": [
    "first_class = titanic[titanic['Pclass'] == 1.0]\n",
    "first_class.plot(kind='box', y=['Age'], vert=False)\n",
    "first_class.plot(kind='box', y=['Fare'], vert=False)\n",
    "first_class.plot(kind='scatter', x='Age', y='Fare')"
   ]
  },
  {
   "cell_type": "markdown",
   "metadata": {},
   "source": [
    "## The Naïve Bayes Algorithm"
   ]
  },
  {
   "cell_type": "markdown",
   "metadata": {},
   "source": [
    "Explanation of the algorithm here :D\n",
    "\n",
    "- Bayes' rule\n",
    "- What it means in our context (what is $A$ and what is $B$)\n",
    "- How do we use it to make a classifier?\n",
    "\n",
    "$$\n",
    "P(A|B) = \\frac{P(B|A)P(A)}{P(B)}\n",
    "$$\n",
    "\n"
   ]
  },
  {
   "cell_type": "markdown",
   "metadata": {},
   "source": [
    "#### Implementation"
   ]
  },
  {
   "cell_type": "code",
   "execution_count": null,
   "metadata": {},
   "outputs": [],
   "source": [
    "class TitanicNaiveBayes:\n",
    "    \"\"\"\n",
    "    \"\"\"    \n",
    "    def fit(self, data, labels):\n",
    "        \"\"\"\n",
    "        Parameters\n",
    "        ----------\n",
    "        data : pd.DataFrame\n",
    "            Data to train on.\n",
    "        \"\"\"\n",
    "        for i in range(0, 2):\n",
    "            total = 0\n",
    "            males = 0\n",
    "            mean = 0.0\n",
    "            ages = []\n",
    "            std = 0.0\n",
    "            for k in range(0, len(data)):\n",
    "                status = labels[k]\n",
    "                if status == i:\n",
    "                    total += 1\n",
    "                    if data.iloc[k][0] == 'male':\n",
    "                        males += 1\n",
    "                    mean += data.iloc[k][1]\n",
    "                    ages.append(data.iloc[k][1])\n",
    "            probability = (total * 1.0) / len(data)\n",
    "            males = (males * 1.0) / (total * 1.0)\n",
    "            mean = (mean * 1.0) / (total * 1.0)\n",
    "            for k in range(0, len(ages)):\n",
    "                std += pow((ages[k] - mean), 2)\n",
    "                std = std / (total * 1.0)\n",
    "                std = sqrt(std)\n",
    "            print(\"Group \"+str(i))\n",
    "            print(\"Probability = \"+str(probability))\n",
    "            print(\"Mean = \"+str(mean))\n",
    "            print(\"Standard Deviation = \"+str(std))\n",
    "        return self\n",
    "\n",
    "    def predict(self, data):\n",
    "        \"\"\"\n",
    "        Parameters\n",
    "        ----------\n",
    "        data: pd.DataFrame\n",
    "            Data to train on.\n",
    "        \"\"\"\n",
    "        denom = 0\n",
    "        prob_group = [0.0, 0.0]\n",
    "        for i in range(0, 2):\n",
    "            females = 0\n",
    "            males = 0\n",
    "            mean = 0.0\n",
    "            ages = []\n",
    "            std = 0.0\n",
    "            total = 0\n",
    "            for k in range(0, len(data)):\n",
    "                status = labels[k]\n",
    "                if status == i:\n",
    "                    total += 1\n",
    "                    if data.iloc[k][0] == 'male':\n",
    "                        males += 1\n",
    "                    else:\n",
    "                        females += 1\n",
    "                    mean += data.iloc[k][1]\n",
    "                    ages.append(data.iloc[k][1])\n",
    "            females = (females * 1.0) / (total * 1.0)\n",
    "            males = (males * 1.0) / (total * 1.0)\n",
    "            mean = (mean * 1.0) / (total * 1.0)\n",
    "            for k in range(0, len(ages)):\n",
    "                std += pow((ages[k] - mean), 2)\n",
    "                std = std / (total * 1.0)\n",
    "                std = sqrt(std)\n",
    "            ### idk about the rest lol\n",
    "        pass"
   ]
  },
  {
   "cell_type": "markdown",
   "metadata": {},
   "source": [
    "## Applying the Algorithm to the Problem"
   ]
  },
  {
   "cell_type": "code",
   "execution_count": null,
   "metadata": {},
   "outputs": [],
   "source": [
    "# Are these variables correlated?\n",
    "titanic.drop(\"Survived\", axis=1).corr()"
   ]
  },
  {
   "cell_type": "code",
   "execution_count": null,
   "metadata": {},
   "outputs": [],
   "source": [
    "data = titanic.drop(\"Survived\", axis=1)\n",
    "labels = titanic[\"Survived\"]"
   ]
  },
  {
   "cell_type": "code",
   "execution_count": null,
   "metadata": {},
   "outputs": [],
   "source": [
    "# Will need to split the data into training / testing groups for validation"
   ]
  }
 ],
 "metadata": {
  "kernelspec": {
   "display_name": "Python 3",
   "language": "python",
   "name": "python3"
  },
  "language_info": {
   "codemirror_mode": {
    "name": "ipython",
    "version": 3
   },
   "file_extension": ".py",
   "mimetype": "text/x-python",
   "name": "python",
   "nbconvert_exporter": "python",
   "pygments_lexer": "ipython3",
   "version": "3.8.1"
  }
 },
 "nbformat": 4,
 "nbformat_minor": 4
}
