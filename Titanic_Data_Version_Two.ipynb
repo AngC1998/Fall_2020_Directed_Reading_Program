{
 "cells": [
  {
   "cell_type": "code",
   "execution_count": null,
   "metadata": {},
   "outputs": [],
   "source": [
    "import numpy as np\n",
    "import pandas as pd\n",
    "import scipy.stats as stats\n",
    "import matplotlib.pyplot as plt\n",
    "from sklearn.model_selection import train_test_split"
   ]
  },
  {
   "cell_type": "code",
   "execution_count": null,
   "metadata": {},
   "outputs": [],
   "source": [
    "#plt.rc(\"figure\", dpi=300, figsize=(9,3))\n",
    "plt.rc(\"figure\", dpi=300)"
   ]
  },
  {
   "cell_type": "markdown",
   "metadata": {},
   "source": [
    "<h1 align=\"center\">Titanic Survival Estimation via Naïve Bayes</h1>\n",
    "\n",
    "    Angela Cao\n",
    "    Shane McQuarrie\n",
    "    DRP Fall 2020"
   ]
  },
  {
   "cell_type": "markdown",
   "metadata": {},
   "source": [
    "## Contents\n",
    "\n",
    "1. Introduction: The Titanic Problem\n",
    "2. Brief Data Summary\n",
    "3. The Naïve Bayes Algorithm\n",
    "4. Testing the Algorithm"
   ]
  },
  {
   "cell_type": "markdown",
   "metadata": {},
   "source": [
    "## Introduction: The Titanic Problem"
   ]
  },
  {
   "cell_type": "markdown",
   "metadata": {},
   "source": [
    "On April 15, 1912, the [RMS Titanic](https://en.wikipedia.org/wiki/Titanic) sank, leaving about 1,500 people dead. The goal of this project is to construct a machine learning algorithm to predict whether or not a person with given characteristics would have been likely to survive the accident. This is a [popular problem](https://www.kaggle.com/c/titanic) for first-time exposure to machine learning."
   ]
  },
  {
   "cell_type": "markdown",
   "metadata": {},
   "source": [
    "We have a [data set](https://www.kaggle.com/c/titanic/data) with information about 1,308 of the Titanic passengers, with the following features for each passenger.\n",
    "- `Pclass`: The class of the ticket, either 1 for 1st class (most expensive), 2 for 2nd class, and 3 for 3rd class (least expensive).\n",
    "- `Survived`:\n",
    "- `Name`:\n",
    "- `Sex`: \n",
    "- `Age`:\n",
    "- `Sibsp`:\n",
    "...\n",
    "\n",
    "**Angela, see https://www.kaggle.com/c/titanic/data for column descriptions if you want to include them.**"
   ]
  },
  {
   "cell_type": "code",
   "execution_count": null,
   "metadata": {},
   "outputs": [],
   "source": [
    "# Read the data from file.\n",
    "titanic_original = pd.read_csv(\"titanic.csv\")\n",
    "titanic_original.sample(5)"
   ]
  },
  {
   "cell_type": "markdown",
   "metadata": {},
   "source": [
    "Displays 5 random entries from the original Titanic data. "
   ]
  },
  {
   "cell_type": "markdown",
   "metadata": {},
   "source": [
    "**(what columns do we care about?)**\n",
    "\n",
    "What are the common factors among survivors and victims of the Titanic accident? We will construct a classifier based on the following features: `Sex`, `Age`, `Pclass`, `Fare`. (Your `Name` is independent of whether or not you survive, but your age may be a relevant factor!)"
   ]
  },
  {
   "cell_type": "code",
   "execution_count": null,
   "metadata": {},
   "outputs": [],
   "source": [
    "# Extract the relevant columns.\n",
    "titanic = titanic_original[[\"Survived\", \"Sex\", \"Age\", \"Pclass\", \"Fare\"]]\n",
    "titanic.sample(5)"
   ]
  },
  {
   "cell_type": "markdown",
   "metadata": {},
   "source": [
    "Displays 5 random entries from the recently-reformed Titanic data. "
   ]
  },
  {
   "cell_type": "markdown",
   "metadata": {},
   "source": [
    "We split the data into training and testing sets, reserving 15% of the entries for testing."
   ]
  },
  {
   "cell_type": "markdown",
   "metadata": {},
   "source": [
    "**(how are we dealing with missing data?)**\n",
    "\n",
    "The data is incomplete in that there are missing entries for some of the features for some of the passengers. To remedy this, we fill ..."
   ]
  },
  {
   "cell_type": "code",
   "execution_count": null,
   "metadata": {},
   "outputs": [],
   "source": [
    "# Split the data into training and testing sets.\n",
    "train_data, test_data = train_test_split(titanic, test_size=.15)\n",
    "print(f\"{len(train_data)} train points, {len(test_data)} test points\")\n",
    "\n",
    "# Minor preprocessing step: replace NaN values with averages.\n",
    "filler = train_data.mean()\n",
    "train_data = train_data.fillna(filler)\n",
    "\n",
    "# Separate the Survival labels from the test data and replace\n",
    "# missing values with the averages from the training data.\n",
    "test_labels = test_data[\"Survived\"]\n",
    "test_data = test_data.fillna(filler).drop(\"Survived\", axis=1)\n",
    "\n",
    "test_data.sample(3)"
   ]
  },
  {
   "cell_type": "markdown",
   "metadata": {},
   "source": [
    "Displays 3 random entries from the Titanic test data. "
   ]
  },
  {
   "cell_type": "markdown",
   "metadata": {},
   "source": [
    "## Brief Data Summary"
   ]
  },
  {
   "cell_type": "markdown",
   "metadata": {},
   "source": [
    "**Principles to follow here**:\n",
    "- Tell a story. That means only use tables/visualizations that serve the story.\n",
    "    - How many people survived?\n",
    "    - How does survival appear to depend on the other factors (subgroups?)\n",
    "- Visualize single distributions with histograms / kernel density estimate (`kind=\"kde\"`)\n",
    "- Label everything!\n",
    "\n",
    "\n",
    "Ideas for visualizations\n",
    "- Proportion of people who died\n",
    "- Distribution of ages?\n",
    "- Distribution of Fare?\n",
    "- Proportion of males / females\n",
    "- Any of these grouped by survival\n",
    "\n",
    "(go see what we did in the Pandas 3 lab)\n",
    "\n",
    "Many of the victims (and survivors) shared certain characteristics such as class (divided into 3 classes based on social status), sex, age, etc. We begin by investigating the common factors among survivors and victims of the Titanic sinking. "
   ]
  },
  {
   "cell_type": "code",
   "execution_count": null,
   "metadata": {},
   "outputs": [],
   "source": [
    "titanic.groupby([\"Survived\", \"Sex\"]).mean()"
   ]
  },
  {
   "cell_type": "markdown",
   "metadata": {},
   "source": [
    "The data is first sorted into who survived the Titanic incident and who didn't (0 for non-survivors and 1 for survivors), and then sorted within these survival groups based on sex (female/male) and got the mean data of the female/male survivors/non-survivors.\n",
    "\n",
    "From the table, we can see that:\n",
    "- The mean age of female non-survivors is around 25 years old. A good amount of the dead females, on average (mean), bought 2nd and 3rd class tickets on average (mean) of 22.32 dollars. \n",
    "- The mean age of male non-survivors is around 31-32 years old. A good amount of the dead males, on average (mean), bought 2nd and 3rd class tickets on average (mean) of 23.55 dollars. \n",
    "- The mean age of female survivors is around 29-30 years old. A good amount of the dead females, on average (mean), bought 1st and 2nd class tickets on average (mean) of 55.14 dollars. \n",
    "- The mean age of male survivors is around 26-27 years old. A good amount of the dead males, on average (mean), bought second class tickets on average (mean) of 37.19 dollars. "
   ]
  },
  {
   "cell_type": "code",
   "execution_count": null,
   "metadata": {},
   "outputs": [],
   "source": [
    "titanic.groupby(\"Survived\").count()[\"Age\"].plot(kind=\"barh\")\n",
    "plt.show()"
   ]
  },
  {
   "cell_type": "markdown",
   "metadata": {},
   "source": [
    "The bar graph above shows how many passengers from the Titanic data survived (1) and how many passengers from the Titanic data did not (0). It seems more passengers recorded in the data perished than survived. "
   ]
  },
  {
   "cell_type": "code",
   "execution_count": null,
   "metadata": {},
   "outputs": [],
   "source": [
    "titanic.groupby(\"Pclass\").count()[\"Age\"].plot(kind=\"barh\")\n",
    "plt.show()"
   ]
  },
  {
   "cell_type": "markdown",
   "metadata": {},
   "source": [
    "The bar graph above shows the number of passengers in each ticket class recorded in the data. The majority of the passengers recorded in the data bought 3rd class tickets. "
   ]
  },
  {
   "cell_type": "code",
   "execution_count": null,
   "metadata": {},
   "outputs": [],
   "source": [
    "titanic.groupby(\"Sex\").count()[\"Age\"].plot(kind=\"barh\")\n",
    "plt.show()"
   ]
  },
  {
   "cell_type": "markdown",
   "metadata": {},
   "source": [
    "The bar graph above shows the number of female and male passengers respectiviely recorded in the data. The data has more male than female passengers recorded. "
   ]
  },
  {
   "cell_type": "code",
   "execution_count": null,
   "metadata": {},
   "outputs": [],
   "source": [
    "titanic[\"Age\"].plot(kind=\"hist\", bins=80)\n",
    "plt.show()"
   ]
  },
  {
   "cell_type": "markdown",
   "metadata": {},
   "source": [
    "The histogram above shows the distribution of the ages of the passengers in the Titanic data in 80 bins or groups. From the histogram, you can see that the data is right-skewed with a good amount of passengers in their 20's and 30's and also a good chunk of children as well. The amount of passengers each group increases from 10's to early-mid 20's and then increases afterwards with some outliers in 70's and 80's groups. "
   ]
  },
  {
   "cell_type": "code",
   "execution_count": null,
   "metadata": {},
   "outputs": [],
   "source": [
    "titanic[\"Fare\"].plot(kind=\"hist\", bins=20)\n",
    "plt.show()"
   ]
  },
  {
   "cell_type": "markdown",
   "metadata": {},
   "source": [
    "The histogram above shows the distribution of the fare prices of the passengers in the Titanic data in 20 bins or groups. From the histogram you can see the data is extremely right-skewed with the majority of passengers having tickets that cost 100 dollars or less. The amount of passengers in each group decreases every time until we have at least a single outlier for 500 dollar ticket. "
   ]
  },
  {
   "cell_type": "code",
   "execution_count": null,
   "metadata": {
    "scrolled": true
   },
   "outputs": [],
   "source": [
    "titanic.describe()"
   ]
  },
  {
   "cell_type": "markdown",
   "metadata": {},
   "source": [
    "Not only shows the amount of passengers recorded in the data through the 'Survived' column (1309 passengers recorded, and most of them probably perished according to the mean and quartiles), but also the number of passengers in the data who got their ages recorded and the mean and ranges of ages recorded, and the mean and ranges of classes and fares recorded as well through min, quartiles, and max. \n",
    "\n",
    "From the table, we can see that: \n",
    "- The majority of passengers recorded perished in the Titanic incident. \n",
    "- There were 1046 passengers whose ages were recorded in the data. Some passengers are missing ages. \n",
    "- The mean age of the passsengers in the Titanic were 29-30 years old. \n",
    "- The median age of the passengers in the Titanic is about 28 years old which confirms the right-skewness of the distribution of ages. \n",
    "- The youngest passenger was a baby while the oldest passenger is 80 years old. \n",
    "- A good majority of passengers recorded bought 3rd class tickets though the mean (average) was is about 2nd class. \n",
    "- The mean fare of the passengers in the Titanic was about 33.30 dollars. \n",
    "- The median fare of the passengers in the Titanic was about 14.45 dollars which confirms the extreme right-skewness of the distribution of fare. \n",
    "- The cheapest ticket was for free while the most expensive ticket was about 512.33 dollars. "
   ]
  },
  {
   "cell_type": "code",
   "execution_count": null,
   "metadata": {},
   "outputs": [],
   "source": [
    "titanic[\"Age\"].isnull()"
   ]
  },
  {
   "cell_type": "code",
   "execution_count": null,
   "metadata": {},
   "outputs": [],
   "source": [
    "titanic.loc[titanic[\"Age\"].isnull()]"
   ]
  },
  {
   "cell_type": "markdown",
   "metadata": {},
   "source": [
    "The table above shows all the passengers in the data whose ages are unknown so far. According to the table, there are 263 entries or passengers whose ages have not been recorded yet. We decide to get the median age of all passengers as the \"age\" of these passengers as of now to keep the data as consistent as we can. "
   ]
  },
  {
   "cell_type": "code",
   "execution_count": null,
   "metadata": {},
   "outputs": [],
   "source": [
    "titanic[\"Age\"].median()"
   ]
  },
  {
   "cell_type": "code",
   "execution_count": null,
   "metadata": {},
   "outputs": [],
   "source": [
    "titanic.loc[titanic[\"Age\"].isnull(), \"Age\"] = titanic[\"Age\"].median()"
   ]
  },
  {
   "cell_type": "code",
   "execution_count": null,
   "metadata": {},
   "outputs": [],
   "source": [
    "titanic = titanic[:1309]"
   ]
  },
  {
   "cell_type": "code",
   "execution_count": null,
   "metadata": {},
   "outputs": [],
   "source": [
    "plt.hist(titanic[\"Age\"])"
   ]
  },
  {
   "cell_type": "markdown",
   "metadata": {},
   "source": [
    "The histogram above shows the distribution of the ages of the passengers in the Titanic data in 10 bins or groups. From the histogram, you can see that the data is right-skewed with a good amount of passengers in their 20's and 30's and also a good chunk of children as well. "
   ]
  },
  {
   "cell_type": "code",
   "execution_count": null,
   "metadata": {
    "scrolled": true
   },
   "outputs": [],
   "source": [
    "plt.hist(titanic[\"Fare\"])"
   ]
  },
  {
   "cell_type": "markdown",
   "metadata": {},
   "source": [
    "The histogram above shows the distribution of the fare prices of the passengers in the Titanic data in 10 bins or groups. From the histogram you can see the data is extremely right-skewed with the majority of passengers having tickets that cost approximately 150 dollars or less. The amount of passengers in each group decreases every time until we have many outliers in the 200's, 300's, and 500's groups.  "
   ]
  },
  {
   "cell_type": "markdown",
   "metadata": {},
   "source": [
    "**Survived Classification Data Summary**"
   ]
  },
  {
   "cell_type": "code",
   "execution_count": null,
   "metadata": {},
   "outputs": [],
   "source": [
    "survival_groups = titanic.groupby(\"Survived\")"
   ]
  },
  {
   "cell_type": "code",
   "execution_count": null,
   "metadata": {},
   "outputs": [],
   "source": [
    "survival_groups.boxplot(grid=False, column=['Age'], vert=False)"
   ]
  },
  {
   "cell_type": "code",
   "execution_count": null,
   "metadata": {},
   "outputs": [],
   "source": [
    "survival_groups.plot(kind='hist', y='Age')"
   ]
  },
  {
   "cell_type": "code",
   "execution_count": null,
   "metadata": {},
   "outputs": [],
   "source": [
    "survival_groups.boxplot(grid=False, column=['Fare'], vert=False)"
   ]
  },
  {
   "cell_type": "code",
   "execution_count": null,
   "metadata": {},
   "outputs": [],
   "source": [
    "survival_groups.plot(kind=\"hist\", y=\"Fare\")"
   ]
  },
  {
   "cell_type": "markdown",
   "metadata": {},
   "source": [
    "**Pclass Classification Data Summary**"
   ]
  },
  {
   "cell_type": "code",
   "execution_count": null,
   "metadata": {},
   "outputs": [],
   "source": [
    "groups = titanic.groupby(\"Pclass\")"
   ]
  },
  {
   "cell_type": "code",
   "execution_count": null,
   "metadata": {
    "scrolled": true
   },
   "outputs": [],
   "source": [
    "# These almost look nice, but we have to be careful not compare apples and oranges.\n",
    "groups.boxplot(grid=False, column=['Age'], vert=False)"
   ]
  },
  {
   "cell_type": "code",
   "execution_count": null,
   "metadata": {},
   "outputs": [],
   "source": [
    "groups.plot(kind=\"hist\", y=\"Age\")"
   ]
  },
  {
   "cell_type": "code",
   "execution_count": null,
   "metadata": {},
   "outputs": [],
   "source": [
    "groups.boxplot(grid=False, column=['Fare'], vert=False)"
   ]
  },
  {
   "cell_type": "code",
   "execution_count": null,
   "metadata": {},
   "outputs": [],
   "source": [
    "groups.plot(kind=\"hist\", y=\"Fare\")"
   ]
  },
  {
   "cell_type": "markdown",
   "metadata": {},
   "source": [
    "**Sex Classification Data Summary**"
   ]
  },
  {
   "cell_type": "code",
   "execution_count": null,
   "metadata": {},
   "outputs": [],
   "source": [
    "gender_groups = titanic.groupby(\"Sex\")"
   ]
  },
  {
   "cell_type": "code",
   "execution_count": null,
   "metadata": {},
   "outputs": [],
   "source": [
    "gender_groups.boxplot(grid=False, column=['Age'], vert=False)"
   ]
  },
  {
   "cell_type": "code",
   "execution_count": null,
   "metadata": {},
   "outputs": [],
   "source": [
    "gender_groups.plot(kind=\"hist\", y=\"Age\")"
   ]
  },
  {
   "cell_type": "code",
   "execution_count": null,
   "metadata": {},
   "outputs": [],
   "source": [
    "gender_groups.boxplot(grid=False, column=['Fare'], vert=False)"
   ]
  },
  {
   "cell_type": "code",
   "execution_count": null,
   "metadata": {},
   "outputs": [],
   "source": [
    "gender_groups.plot(kind=\"hist\", y=\"Fare\")"
   ]
  },
  {
   "cell_type": "markdown",
   "metadata": {},
   "source": [
    "**Age and Fare as Classification**"
   ]
  },
  {
   "cell_type": "code",
   "execution_count": null,
   "metadata": {},
   "outputs": [],
   "source": [
    "# Partition the passengers into 3 categories based on age.\n",
    "age = pd.cut(titanic['Age'], [0, 12, 18, 80])\n",
    "age"
   ]
  },
  {
   "cell_type": "code",
   "execution_count": null,
   "metadata": {},
   "outputs": [],
   "source": [
    "titanic.pivot_table(values='Survived', index=['Sex', age],\n",
    "                   columns='Pclass', aggfunc='mean')"
   ]
  },
  {
   "cell_type": "code",
   "execution_count": null,
   "metadata": {},
   "outputs": [],
   "source": [
    "titanic.pivot_table(values='Survived', index=['Sex', age], \n",
    "                   columns='Pclass', aggfunc='count')"
   ]
  },
  {
   "cell_type": "code",
   "execution_count": null,
   "metadata": {},
   "outputs": [],
   "source": [
    "# Cut the ticket price into two intervals (cheap vs expensive)\n",
    "fare = pd.qcut(titanic['Fare'], 2)\n",
    "fare"
   ]
  },
  {
   "cell_type": "code",
   "execution_count": null,
   "metadata": {},
   "outputs": [],
   "source": [
    "titanic.pivot_table(values='Survived',\n",
    "                   index=['Sex', age], columns=[fare, 'Pclass'], \n",
    "                   aggfunc='count', fill_value='-')"
   ]
  },
  {
   "cell_type": "markdown",
   "metadata": {},
   "source": [
    "**Age and Fare Correlation**"
   ]
  },
  {
   "cell_type": "code",
   "execution_count": null,
   "metadata": {
    "scrolled": true
   },
   "outputs": [],
   "source": [
    "titanic.plot(kind='box', y=['Age'], vert=False)\n",
    "titanic.plot(kind='box', y=['Fare'], vert=False)"
   ]
  },
  {
   "cell_type": "code",
   "execution_count": null,
   "metadata": {},
   "outputs": [],
   "source": [
    "titanic.plot(kind='scatter', x='Age', y='Fare', alpha=.2)"
   ]
  },
  {
   "cell_type": "code",
   "execution_count": null,
   "metadata": {},
   "outputs": [],
   "source": [
    "first_class = titanic[titanic['Pclass'] == 1.0]\n",
    "first_class.plot(kind='box', y=['Age'], vert=False)\n",
    "first_class.plot(kind='box', y=['Fare'], vert=False)\n",
    "first_class.plot(kind='scatter', x='Age', y='Fare')"
   ]
  },
  {
   "cell_type": "markdown",
   "metadata": {},
   "source": [
    "## The Naïve Bayes Algorithm"
   ]
  },
  {
   "cell_type": "markdown",
   "metadata": {},
   "source": [
    "Our goal is to construct a function $f$ that maps a given tuple of `Sex`, `Age`, `Pclass`, and `Fare` values to a `Survival` value (0 for perished or 1 for survived).\n",
    "This is a _binary classification problem_ because we are separating instances of data into two categories.\n",
    "Since we have labeled data\n",
    "There are many ways to construct such a function, but we will use the simple Naïve Bayes algorithm.\n",
    "\n",
    "Let $P$ be a probability measure and let $A$ and $B$ be events in a probability space. _Bayes' rule_ is the statement\n",
    "\n",
    "$$\n",
    "P(A|B) = \\frac{P(B|A)P(A)}{P(B)}.\n",
    "$$\n",
    "\n",
    "We want to compute the probability of survival given the features in the data, so we want to compute\n",
    "$$\n",
    "P(\\textrm{Survived}|(\\textrm{Sex,Age,Pclass,Fare})) = \\frac{P((\\textrm{Sex,Age,Pclass,Fare})|\\textrm{Survived})P(\\textrm{Survived})}{P((\\textrm{Sex,Age,Pclass,Fare}))}.\n",
    "$$\n",
    "\n",
    "For notational convenience, let $X_1,\\ldots,X_4$ denote the four features and $Y$ denote the survival label. Then our statement is\n",
    "$$\n",
    "P(Y|X_1,X_2,X_3,X_4) = \\frac{P(X_1,X_2,X_3,X_4|Y)P(Y)}{P(X_1,X_2,X_3,X_4)}.\n",
    "$$\n",
    "\n",
    "The probability $P(Y)$ is called the _prior_ **(choose this to be .5 or something else, and explain why)**.\n",
    "\n",
    "The denominator $P(X_1,X_2,X_3,X_4)$ is called the _evidence_, which we write with the Law of Total Probability:\n",
    "\n",
    "$$\n",
    "P(X_1,X_2,X_3,X_4) = \\sum_{i\\in\\{0,1\\}} P(X_1,X_2,X_3,X_4|Y=i)P(Y=i).\n",
    "$$\n",
    "\n",
    "So what we really want is to compute $P(X_1,X_2,X_3,X_4|Y=i)$. Here we use the (naïve) assumption that **the features are conditionally independent**, that is,\n",
    "\n",
    "$$\n",
    "\\begin{align*}\n",
    "    P(X_1,X_2,X_3,X_4|Y=i)\n",
    "    &= \\prod_{j=1}^{4}P(X_{j}|Y = i)\n",
    "    \\\\\n",
    "    &= P(X_1|Y=i)P(X_2|Y=i)P(X_3|Y=i)P(X_4|Y=i)\n",
    "\\end{align*}\n",
    "$$\n",
    "\n",
    "To compute each $P(X_j|Y=i)$, we need to choose a probabilty distribution to evaluate. For example, Sex has two values, Male and Female. So we choose a Bernoulli distribution to model these probabilities, i.e.,\n",
    "\n",
    "$$\n",
    "\\begin{align*}\n",
    "    P(X_2 = \\textrm{Male} | Y = i) &= q_i\n",
    "    &\n",
    "    P(X_2 = \\textrm{Female} | Y = i) &= 1 - q_i\n",
    "\\end{align*}\n",
    "$$\n",
    "And we compute $q_i$ from the data."
   ]
  },
  {
   "cell_type": "markdown",
   "metadata": {},
   "source": [
    "#### Implementation"
   ]
  },
  {
   "cell_type": "code",
   "execution_count": null,
   "metadata": {},
   "outputs": [],
   "source": [
    "class TitanicNaiveBayes:\n",
    "    \"\"\"Naïve Bayes classifier for the Titanic problem, mapping values of\n",
    "    Sex, Age, Fare, and Pclass to Survival.\n",
    "    \"\"\"\n",
    "    def fit(self, data):\n",
    "        \"\"\"Calculate statistics for each group based on survival.\n",
    "        \n",
    "        Parameters\n",
    "        ----------\n",
    "        data : pd.DataFrame\n",
    "            Data to train on.\n",
    "        \"\"\"\n",
    "        for i in range(0, 2):\n",
    "            total = 0\n",
    "            males = 0\n",
    "            mean = 0.0\n",
    "            ages = []\n",
    "            std = 0.0\n",
    "            for k in range(0, len(data)):\n",
    "                status = labels[k]\n",
    "                if status == i:\n",
    "                    total += 1\n",
    "                    if data.iloc[k][0] == 'male':\n",
    "                        males += 1\n",
    "                    mean += data.iloc[k][1]\n",
    "                    ages.append(data.iloc[k][1])\n",
    "            probability = (total * 1.0) / len(data)\n",
    "            males = (males * 1.0) / (total * 1.0)\n",
    "            mean = (mean * 1.0) / (total * 1.0)\n",
    "            for k in range(0, len(ages)):\n",
    "                std += pow((ages[k] - mean), 2)\n",
    "                std = std / (total * 1.0)\n",
    "                std = sqrt(std)\n",
    "            print(\"Group \"+str(i))\n",
    "            print(\"Probability = \"+str(probability))\n",
    "            print(\"Mean = \"+str(mean))\n",
    "            print(\"Standard Deviation = \"+str(std))\n",
    "        return self\n",
    "\n",
    "    def predict(self, data):\n",
    "        \"\"\"Calculate the probabilities of belonging to each distribution.\n",
    "    \n",
    "        Parameters\n",
    "        ----------\n",
    "        data: pd.DataFrame\n",
    "            Data to train on.\n",
    "        \"\"\"        \n",
    "        denom = 0\n",
    "        prob_group = [0.0, 0.0]\n",
    "        for i in range(0, 2):\n",
    "            females = 0\n",
    "            males = 0\n",
    "            mean = 0.0\n",
    "            ages = []\n",
    "            std = 0.0\n",
    "            total = 0\n",
    "            for k in range(0, len(data)):\n",
    "                status = labels[k]\n",
    "                if status == i:\n",
    "                    total += 1\n",
    "                    if data.iloc[k][0] == 'male':\n",
    "                        males += 1\n",
    "                    else:\n",
    "                        females += 1\n",
    "                    mean += data.iloc[k][1]\n",
    "                    ages.append(data.iloc[k][1])\n",
    "            females = (females * 1.0) / (total * 1.0)\n",
    "            males = (males * 1.0) / (total * 1.0)\n",
    "            mean = (mean * 1.0) / (total * 1.0)\n",
    "            for k in range(0, len(ages)):\n",
    "                std += pow((ages[k] - mean), 2)\n",
    "                std = std / (total * 1.0)\n",
    "                std = sqrt(std)\n",
    "            ### idk about the rest lol\n",
    "        pass"
   ]
  },
  {
   "cell_type": "code",
   "execution_count": null,
   "metadata": {},
   "outputs": [],
   "source": [
    "class TitanicNaiveBayes:\n",
    "    \"\"\"Naïve Bayes classifier for the Titanic problem, mapping values of\n",
    "    Sex, Age, Fare, and Pclass to Survival.\n",
    "    \"\"\"\n",
    "    def fit(self, data):\n",
    "        \"\"\"Calculate statistics for each group based on survival.\n",
    "        \n",
    "        Parameters\n",
    "        ----------\n",
    "        data : pd.DataFrame\n",
    "            Data to train on.\n",
    "        \"\"\"\n",
    "        groups = data.groupby(\"Survived\")\n",
    "        \n",
    "        sex_params = {}\n",
    "        age_params = {}\n",
    "        fare_params = {}\n",
    "        pclass_params = {}\n",
    "        \n",
    "        for Y, group in groups:\n",
    "            # Get the average number of males in the group.\n",
    "            sex_params[Y] = np.mean(group[\"Sex\"] == \"male\")\n",
    "\n",
    "            # Get the mean and standard deviation of the ages in the group.\n",
    "            age_params[Y] = np.mean(group[\"Age\"]), np.std(group[\"Age\"])\n",
    "            \n",
    "            # Get the mean and standard deviation of the fare in the group.\n",
    "            fare_params[Y] = np.mean(group[\"Fare\"]), np.std(group[\"Fare\"])\n",
    "            \n",
    "            # Get the probability for each class in the group.\n",
    "            pclass_params[Y] = [np.mean(group[\"Pclass\"] == j) for j in [1,2,3]]\n",
    "        \n",
    "        self.sex_params_ = sex_params\n",
    "        self.age_params_ = age_params\n",
    "        self.fare_params_ = fare_params\n",
    "        self.pclass_params_ = pclass_params\n",
    "        return self\n",
    "\n",
    "    def predict(self, data):\n",
    "        \"\"\"Calculate the probabilities of belonging to each distribution.\n",
    "    \n",
    "        Parameters\n",
    "        ----------\n",
    "        data: pd.DataFrame\n",
    "            Data to train on.\n",
    "        \"\"\"\n",
    "        probabilities = []\n",
    "        for row in data.values:\n",
    "            numerators = []\n",
    "            for Y in [0,1]:\n",
    "                q = self.sex_params_[Y]\n",
    "                p1 = q if data[\"Sex\"] == \"male\" else 1 - q\n",
    "\n",
    "                m2, s2 = self.age_params_[Y]\n",
    "                p2 = stats.norm(m2, s2).pdf(data[\"Age\"])\n",
    "\n",
    "                m2, s2 = self.age_params_[Y]\n",
    "                p3 = self.age_params_[Y]\n",
    "\n",
    "                qs = self.pclass_params_[Y]\n",
    "                p4 = qs[int(data[\"Pclass\"]) - 1]\n",
    "\n",
    "                numerators.append(np.exp(np.sum(np.log([p1, p2, p3, p4, .5]))))\n",
    "\n",
    "            denom = sum(numerators)\n",
    "            probabilities.append(np.array(numerators) / denom)\n",
    "        return probabilities"
   ]
  },
  {
   "cell_type": "code",
   "execution_count": null,
   "metadata": {},
   "outputs": [],
   "source": [
    "class TitanicNaiveBayes2:\n",
    "    \"\"\"Naïve Bayes classifier for the Titanic problem, mapping values of\n",
    "    Sex, Age, Fare, and Pclass to Survival (0 = perished, 1 = survived).\n",
    "    \n",
    "    Attributes\n",
    "    ----------\n",
    "    prior_ : scipy.stats Bernoulli distribution\n",
    "        Survival probability prior, i.e., prior_.pmf(Y) returns the\n",
    "        probability of perishing if Y = 0 or surviving if Y = 1.\n",
    "    \n",
    "    likelihood_ : dict[Y -> scipy.stats distributions]\n",
    "        Independent likelihood probability distributions whose parameters\n",
    "        are computed from the training data. In order:\n",
    "        * Sex: Bernoulli\n",
    "        * Age: Gaussian (normal)\n",
    "        * Fare: Exponential\n",
    "        * Pclass: Categorical\n",
    "    \"\"\"\n",
    "    def __init__(self, survival_prior=.5):\n",
    "        \"\"\"Set the probability of survival (Benoulli prior distribution).\"\"\"\n",
    "        self.prior_ = stats.bernoulli(survival_prior)\n",
    "\n",
    "    def fit(self, data):\n",
    "        \"\"\"Calculate statistics for each group based on survival.\n",
    "        \n",
    "        Parameters\n",
    "        ----------\n",
    "        data : pd.DataFrame\n",
    "            Data to train on. Must have columns\n",
    "            [\"Survived\", \"Sex\", \"Age\", \"Fare\", \"Pclass\"].\n",
    "        \n",
    "        Returns\n",
    "        -------\n",
    "        self\n",
    "        \"\"\"\n",
    "        groups = data.groupby(\"Survived\")\n",
    "        self.likelihood_ = {}\n",
    "        \n",
    "        for Y, group in groups:\n",
    "            # Record the label.\n",
    "            distributions = {}\n",
    "            \n",
    "            # Sex distribution: Bernoulli.\n",
    "            q = np.mean(group[\"Sex\"] == \"male\")\n",
    "            distributions[\"Sex\"] = stats.bernoulli(q)\n",
    "            \n",
    "            # Age distribution: Gaussian (Normal).\n",
    "            µ, σ = np.mean(group[\"Age\"]), np.std(group[\"Age\"])\n",
    "            distributions[\"Age\"] = stats.norm(µ, σ)\n",
    "\n",
    "            # Fare distribution: Exponential.\n",
    "            loc, scale = stats.expon.fit(group[\"Fare\"])\n",
    "            distributions[\"Fare\"] = stats.expon(loc, scale)\n",
    "            \n",
    "            # Pclass distribution: Categorical.\n",
    "            qs = np.array([np.mean(group[\"Pclass\"] == j) for j in [1,2,3]])\n",
    "            distributions[\"Pclass\"] = qs\n",
    "            \n",
    "            self.likelihood_[Y] = distributions\n",
    "        \n",
    "        return self\n",
    "\n",
    "    def proba(self, data):\n",
    "        \"\"\"Calculate the probabilites of each row of data belonging to each\n",
    "        survival category via Bayes' rule:\n",
    "        \n",
    "                                        P(features | Survived=i) P(Survived)\n",
    "        P(Survived=i | features) = ---------------------------------------------\n",
    "                                   sum_{j}[P(features | Survived=j) P(Survived)]\n",
    "        \n",
    "        Parameters\n",
    "        ----------\n",
    "        data : (m,4) pd.DataFrame\n",
    "            Data to make a prediction for. Must have columns\n",
    "            [\"Sex\", \"Age\", \"Fare\", \"Pclass\"].\n",
    "        \n",
    "        Returns\n",
    "        -------\n",
    "        probabilities : (m,2) ndarray\n",
    "            Perish / survival probabilities.\n",
    "        \"\"\"\n",
    "        numerators = []\n",
    "        for Y in self.likelihood_:\n",
    "            dist = self.likelihood_[Y]\n",
    "\n",
    "            # Evaluate the likelihood and prior distributions.\n",
    "            pXs = [dist[\"Sex\"].pmf(data[\"Sex\"] == \"male\"),        # P(Sex|Y)\n",
    "                   dist[\"Age\"].pdf(data[\"Age\"]),                  # P(Age|Y)\n",
    "                   dist[\"Fare\"].pdf(data[\"Fare\"]),                # P(Fare|Y)\n",
    "                   dist[\"Pclass\"][np.int32(data[\"Pclass\"]) - 1],  # P(Pclass|Y)\n",
    "                   self.prior_.pmf([Y]*len(data))                 # P(Y)\n",
    "                   ]\n",
    "\n",
    "            numerators.append(np.exp(np.sum(np.log(pXs), axis=0)))\n",
    "        numers = np.array(numerators)\n",
    "\n",
    "        return np.transpose(numers / np.sum(numers, axis=0))\n",
    "    \n",
    "    def predict(self, data):\n",
    "        \"\"\"Predict a survival category for each row of data via Bayes' rule.\n",
    "        \n",
    "        Parameters\n",
    "        ----------\n",
    "        data : (m,4) pd.DataFrame\n",
    "            Data to make a prediction for. Must have columns\n",
    "            [\"Sex\", \"Age\", \"Fare\", \"Pclass\"].\n",
    "        \n",
    "        Returns\n",
    "        -------\n",
    "        labels : (m,) ndarray\n",
    "            Perish / survival probabilities.\n",
    "        \"\"\"\n",
    "        return np.argmax(self.proba(data), axis=-1)\n",
    "\n",
    "    def accuracy(self, data, labels):\n",
    "        \"\"\"Compute the accuracy of the model given some test data.\n",
    "        \n",
    "        Parameters\n",
    "        ----------\n",
    "        data : (m,4) pd.DataFrame\n",
    "            Data to make a prediction for. Must have columns\n",
    "            [\"Sex\", \"Age\", \"Fare\", \"Pclass\"].\n",
    "\n",
    "        Returns\n",
    "        -------\n",
    "        accuracy : float\n",
    "            The % of rows guessed correctly.\n",
    "        \"\"\"\n",
    "        return np.mean(self.predict(data) == labels)\n",
    "\n",
    "    # Distribution plots ------------------------------------------------\n",
    "    def _survival_label(self, Y):\n",
    "        return \"Perished\" if Y == 0 else \"Survived\"\n",
    "\n",
    "    def plot_prior(self):\n",
    "        data = pd.DataFrame(index=[\"Perished\", \"Survived\"],\n",
    "                            columns=[\"Prior\"])\n",
    "        data[\"Prior\"] = self.prior_.pmf([0,1])\n",
    "        data.plot(kind=\"barh\")\n",
    "        plt.legend([])\n",
    "        plt.title(\"Prior Survival Distribution\")\n",
    "\n",
    "    def plot_sex(self):\n",
    "        sexes = np.array([0, 1])\n",
    "        data = pd.DataFrame(index=[\"Perished\", \"Survived\"],\n",
    "                            columns=[\"Female\", \"Male\"])\n",
    "        for Y, distributions in self.likelihood_.items():\n",
    "            data.loc[self._survival_label(Y)] = distributions[\"Sex\"].pmf(sexes)\n",
    "        data.plot(kind=\"barh\")\n",
    "        plt.legend(loc=\"upper right\")\n",
    "        plt.title(\"Estimated Sex Distributions\")\n",
    "\n",
    "    def plot_age(self):\n",
    "        years = np.linspace(0, 100, 1000)\n",
    "        for Y, distributions in self.likelihood_.items():\n",
    "            plt.plot(years, distributions[\"Age\"].pdf(years),\n",
    "                     label=self._survival_label(Y))\n",
    "        plt.legend(loc=\"upper right\")\n",
    "        plt.title(\"Estimated Age Distributions\")\n",
    "\n",
    "    def plot_fare(self):\n",
    "        fares = np.linspace(0, 550, 1000)\n",
    "        for Y, distributions in self.likelihood_.items():\n",
    "            plt.plot(fares, distributions[\"Fare\"].pdf(fares),\n",
    "                     label=self._survival_label(Y))\n",
    "        plt.legend(loc=\"upper right\")\n",
    "        plt.title(\"Estimated Fare Distributions\")\n",
    "\n",
    "    def plot_pclass(self):\n",
    "        data = pd.DataFrame(index=[\"Perished\", \"Survived\"],\n",
    "                            columns=[\"1st Class\", \"2nd Class\", \"3rd Class\"])\n",
    "        for Y, distributions in self.likelihood_.items():\n",
    "            data.loc[self._survival_label(Y)] = distributions[\"Pclass\"]\n",
    "        data.plot(kind=\"barh\")\n",
    "        plt.legend(loc=\"upper right\")\n",
    "        plt.title(\"Estimated Pclass Distributions\")\n",
    "    \n",
    "    def plot_likelihoods(self):\n",
    "        \"\"\"Plot each of the learned distributions.\"\"\"\n",
    "        self.plot_prior()\n",
    "        plt.show()\n",
    "        self.plot_sex()\n",
    "        plt.show()\n",
    "        self.plot_age()\n",
    "        plt.show()\n",
    "        self.plot_fare()\n",
    "        plt.show()\n",
    "        self.plot_pclass()\n",
    "        plt.show()"
   ]
  },
  {
   "cell_type": "markdown",
   "metadata": {},
   "source": [
    "## Applying the Algorithm to the Problem"
   ]
  },
  {
   "cell_type": "markdown",
   "metadata": {},
   "source": [
    "Before we use Naïve Bayes on the Titanic data, we should check the assumption of conditional independence among the training variables."
   ]
  },
  {
   "cell_type": "code",
   "execution_count": null,
   "metadata": {},
   "outputs": [],
   "source": [
    "# Are these variables correlated?\n",
    "train_data.drop(\"Survived\", axis=1).corr()"
   ]
  },
  {
   "cell_type": "code",
   "execution_count": null,
   "metadata": {
    "scrolled": false
   },
   "outputs": [],
   "source": [
    "nb = TitanicNaiveBayes2(.5).fit(train_data)\n",
    "nb.plot_likelihoods()"
   ]
  },
  {
   "cell_type": "markdown",
   "metadata": {},
   "source": [
    "**Angela: can you interpret what's going on here? What story is it telling? :)**"
   ]
  },
  {
   "cell_type": "code",
   "execution_count": null,
   "metadata": {
    "scrolled": true
   },
   "outputs": [],
   "source": [
    "nb.accuracy(test_data, test_labels)"
   ]
  },
  {
   "cell_type": "code",
   "execution_count": null,
   "metadata": {},
   "outputs": [],
   "source": [
    "samples = test_data.sample(5)\n",
    "samples"
   ]
  },
  {
   "cell_type": "code",
   "execution_count": null,
   "metadata": {},
   "outputs": [],
   "source": [
    "nb.proba(samples)"
   ]
  },
  {
   "cell_type": "code",
   "execution_count": null,
   "metadata": {},
   "outputs": [],
   "source": [
    "nb.predict(samples)"
   ]
  },
  {
   "cell_type": "code",
   "execution_count": null,
   "metadata": {},
   "outputs": [],
   "source": [
    "test_data.iloc[np.argmax(nb.proba(test_data), axis=0)]"
   ]
  },
  {
   "cell_type": "code",
   "execution_count": null,
   "metadata": {},
   "outputs": [],
   "source": []
  }
 ],
 "metadata": {
  "kernelspec": {
   "display_name": "Python 3",
   "language": "python",
   "name": "python3"
  },
  "language_info": {
   "codemirror_mode": {
    "name": "ipython",
    "version": 3
   },
   "file_extension": ".py",
   "mimetype": "text/x-python",
   "name": "python",
   "nbconvert_exporter": "python",
   "pygments_lexer": "ipython3",
   "version": "3.8.1"
  }
 },
 "nbformat": 4,
 "nbformat_minor": 4
}
